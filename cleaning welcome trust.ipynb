{
 "cells": [
  {
   "cell_type": "code",
   "execution_count": 7,
   "metadata": {},
   "outputs": [],
   "source": [
    "import pandas as pd\n",
    "import numpy as np"
   ]
  },
  {
   "cell_type": "code",
   "execution_count": 8,
   "metadata": {},
   "outputs": [
    {
     "name": "stdout",
     "output_type": "stream",
     "text": [
      "              PMID/PMCID Publisher           Journal title  \\\n",
      "0                    NaN       CUP  Psychological Medicine   \n",
      "1             PMC3679557       ACS       Biomacromolecules   \n",
      "2  23043264  PMC3506128        ACS              J Med Chem   \n",
      "3    23438330 PMC3646402       ACS              J Med Chem   \n",
      "4   23438216 PMC3601604        ACS              J Org Chem   \n",
      "\n",
      "                                       Article title  \\\n",
      "0  Reduced parahippocampal cortical thickness in ...   \n",
      "1  Structural characterization of a Model Gram-ne...   \n",
      "2  Fumaroylamino-4,5-epoxymorphinans and related ...   \n",
      "3  Orvinols with mixed kappa/mu opioid receptor a...   \n",
      "4  Regioselective opening of myo-inositol orthoes...   \n",
      "\n",
      "  COST (£) charged to Wellcome (inc VAT when charged)  \n",
      "0                                              £0.00   \n",
      "1                                           £2381.04   \n",
      "2                                            £642.56   \n",
      "3                                            £669.64   \n",
      "4                                            £685.88   \n"
     ]
    }
   ],
   "source": [
    "df = pd.read_csv(\"welcome_trust.csv\", encoding = 'unicode_escape')\n",
    "\n",
    "print(df.head())"
   ]
  },
  {
   "cell_type": "code",
   "execution_count": 12,
   "metadata": {},
   "outputs": [
    {
     "name": "stdout",
     "output_type": "stream",
     "text": [
      "PLoS One                                                    92\n",
      "PLoS ONE                                                    62\n",
      "Journal of Biological Chemistry                             48\n",
      "Nucleic Acids Research                                      21\n",
      "Proceedings of the National Academy of Sciences             19\n",
      "PLoS Neglected Tropical Diseases                            18\n",
      "Human Molecular Genetics                                    18\n",
      "Nature Communications                                       17\n",
      "PLoS Pathogens                                              15\n",
      "PLoS Genetics                                               15\n",
      "Neuroimage                                                  15\n",
      "PLOS ONE                                                    14\n",
      "Brain                                                       14\n",
      "BMC Public Health                                           14\n",
      "NeuroImage                                                  14\n",
      "Movement Disorders                                          13\n",
      "Biochemical Journal                                         12\n",
      "Developmental Cell                                          12\n",
      "Journal of Neuroscience                                     12\n",
      "Journal of General Virology                                 11\n",
      "Current Biology                                             10\n",
      "BMJ                                                         10\n",
      "PLOS One                                                    10\n",
      "Neuron                                                       9\n",
      "Cell Reports                                                 9\n",
      "Development                                                  8\n",
      "Molecular Microbiology                                       8\n",
      "Neurobiology of Aging                                        8\n",
      "Journal of Virology                                          8\n",
      "European Journal of Immunology                               8\n",
      "                                                            ..\n",
      "Heart and Circulatory Physiology                             1\n",
      "Bulletin of the History of Medicine                          1\n",
      "Methods in Molecular Biology                                 1\n",
      "J Cardiovasc Magn Reson                                      1\n",
      "Sexually Transmitted Infections                              1\n",
      "Trop Med Int Health                                          1\n",
      "HBM JNL Human Brain Mapping                                  1\n",
      "Journal of the Neurological Sciences                         1\n",
      "Journal of Molecular Neuroscience                            1\n",
      "Journal of Visualized Experiments                            1\n",
      "Journal of Epidemiology and Community Health                 1\n",
      "Nutrition Journal                                            1\n",
      "BIOLOGICAL CHEMISTRY                                         1\n",
      "RNA biology                                                  1\n",
      "Hernia                                                       1\n",
      "PLOS  Computational Biology                                  1\n",
      "European Neuropsychopharmacology                             1\n",
      "Journal of Epidemiology & Community Health                   1\n",
      "Age and Ageing                                               1\n",
      "The History of the Family                                    1\n",
      "The Journal of Visualized Experiments                        1\n",
      "Respiration                                                  1\n",
      "Ophthalmology                                                1\n",
      "BioMed Central                                               1\n",
      "Frontiers in Invertebrate Physiology                         1\n",
      "Clinical Neurology and Neurosurgery                          1\n",
      "Current Obstetrics and Gynecology Reports                    1\n",
      "Health and Place                                             1\n",
      "Trends in Molecular Medicine                                 1\n",
      "International Journal of Developmental Biology               1\n",
      "Name: Journal title, Length: 984, dtype: int64\n"
     ]
    }
   ],
   "source": [
    "df_journal = df['Journal title'].value_counts()\n",
    "print(df_journal)"
   ]
  }
 ],
 "metadata": {
  "kernelspec": {
   "display_name": "Python 3",
   "language": "python",
   "name": "python3"
  },
  "language_info": {
   "codemirror_mode": {
    "name": "ipython",
    "version": 3
   },
   "file_extension": ".py",
   "mimetype": "text/x-python",
   "name": "python",
   "nbconvert_exporter": "python",
   "pygments_lexer": "ipython3",
   "version": "3.7.0"
  }
 },
 "nbformat": 4,
 "nbformat_minor": 2
}
