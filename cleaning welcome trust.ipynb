{
 "cells": [
  {
   "cell_type": "code",
   "execution_count": 49,
   "metadata": {},
   "outputs": [],
   "source": [
    "import pandas as pd\n",
    "import numpy as np"
   ]
  },
  {
   "cell_type": "code",
   "execution_count": 50,
   "metadata": {},
   "outputs": [
    {
     "name": "stdout",
     "output_type": "stream",
     "text": [
      "              PMID/PMCID Publisher                   Journal title  \\\n",
      "1             PMC3679557       ACS               Biomacromolecules   \n",
      "2  23043264  PMC3506128        ACS                      J Med Chem   \n",
      "3    23438330 PMC3646402       ACS                      J Med Chem   \n",
      "4   23438216 PMC3601604        ACS                      J Org Chem   \n",
      "5             PMC3579457       ACS  Journal of Medicinal Chemistry   \n",
      "\n",
      "                                       Article title  \\\n",
      "1  Structural characterization of a Model Gram-ne...   \n",
      "2  Fumaroylamino-4,5-epoxymorphinans and related ...   \n",
      "3  Orvinols with mixed kappa/mu opioid receptor a...   \n",
      "4  Regioselective opening of myo-inositol orthoes...   \n",
      "5  Comparative Structural and Functional Studies ...   \n",
      "\n",
      "  COST (£) charged to Wellcome (inc VAT when charged)  \n",
      "1                                           £2381.04   \n",
      "2                                            £642.56   \n",
      "3                                            £669.64   \n",
      "4                                            £685.88   \n",
      "5                                           £2392.20   \n"
     ]
    }
   ],
   "source": [
    "\n",
    "df = pd.read_csv(\"welcome_trust.csv\", encoding = 'unicode_escape')\n",
    "df = df.drop_duplicates()\n",
    "df = df.dropna()\n",
    "\n",
    "print(df.head())"
   ]
  },
  {
   "cell_type": "code",
   "execution_count": 51,
   "metadata": {},
   "outputs": [
    {
     "name": "stdout",
     "output_type": "stream",
     "text": [
      "<class 'pandas.core.frame.DataFrame'>\n",
      "Int64Index: 1928 entries, 1 to 2126\n",
      "Data columns (total 5 columns):\n",
      "PMID/PMCID                                             1928 non-null object\n",
      "Publisher                                              1928 non-null object\n",
      "Journal title                                          1928 non-null object\n",
      "Article title                                          1928 non-null object\n",
      "COST (£) charged to Wellcome (inc VAT when charged)    1928 non-null object\n",
      "dtypes: object(5)\n",
      "memory usage: 90.4+ KB\n",
      "None\n"
     ]
    }
   ],
   "source": [
    "print(df.info())"
   ]
  },
  {
   "cell_type": "code",
   "execution_count": 52,
   "metadata": {},
   "outputs": [
    {
     "name": "stdout",
     "output_type": "stream",
     "text": [
      "Plos one                                                         188\n",
      "Journal of biological chemistry                                   52\n",
      "Neuroimage                                                        28\n",
      "Plos pathogens                                                    24\n",
      "Plos genetics                                                     23\n",
      "Nucleic acids research                                            22\n",
      "Plos neglected tropical diseases                                  20\n",
      "Proceedings of the national academy of sciences                   20\n",
      "Nature communications                                             19\n",
      "Human molecular genetics                                          17\n",
      "Bmc public health                                                 12\n",
      "Brain                                                             11\n",
      "Journal of general virology                                       11\n",
      "Biochemical journal                                               11\n",
      "Movement disorders                                                11\n",
      "Current biology                                                   10\n",
      "Bmj open                                                           9\n",
      "Developmental cell                                                 9\n",
      "Cell reports                                                       9\n",
      "Journal of neuroscience                                            9\n",
      "Plosone                                                            9\n",
      "Journal of structural biology                                      8\n",
      "Journal of clinical endocrinology and metabolism                   8\n",
      "Neurobiology of aging                                              8\n",
      "European journal of immunology                                     8\n",
      "Proceedings of the royal society b: biological sciences            8\n",
      "Neuron                                                             8\n",
      "Malaria journal                                                    8\n",
      "Plos computational biology                                         8\n",
      "Structure                                                          7\n",
      "                                                                ... \n",
      "Infection genetics and evolution                                   1\n",
      "Biogerontology                                                     1\n",
      "European radiology                                                 1\n",
      "International health                                               1\n",
      "Current topics in medicinal chemistry                              1\n",
      "Methods in molecular biology                                       1\n",
      "Seizure                                                            1\n",
      "Journal of clinical virology                                       1\n",
      "Journal of experimental psychology:  animal behaviour process      1\n",
      "Journal of epidemiology & community health                         1\n",
      "Trends in neuroscience                                             1\n",
      "Antioxidants & redox signaling                                     1\n",
      "Journal of histochemistry & cytochemistry                          1\n",
      "Bioconjugate chemistry                                             1\n",
      "Psychological assessment                                           1\n",
      "Health and place                                                   1\n",
      "Lancet                                                             1\n",
      "Future neurology                                                   1\n",
      "American journal of clinical nutrition                             1\n",
      "Acta crystallography d                                             1\n",
      "Clinical and experimental allergy                                  1\n",
      "Health psychology                                                  1\n",
      "Journal of medicinal chemistry                                     1\n",
      "Experimental hematology                                            1\n",
      "Parsitology                                                        1\n",
      "History workshop journal                                           1\n",
      "Journal of archaeological science                                  1\n",
      "Bmc neurology                                                      1\n",
      "Veterinary research                                                1\n",
      "Journal of virological methods                                     1\n",
      "Name: Journal title, Length: 850, dtype: int64\n"
     ]
    }
   ],
   "source": [
    "lowdf = df['Journal title'].str.capitalize()\n",
    "\n",
    "print(lowdf.value_counts())"
   ]
  },
  {
   "cell_type": "code",
   "execution_count": 79,
   "metadata": {},
   "outputs": [
    {
     "name": "stdout",
     "output_type": "stream",
     "text": [
      "     PMID/PMCID Publisher Journal title  \\\n",
      "1282    3517619      PLoS      PLoS ONE   \n",
      "1283    3498109      PLoS      PloS One   \n",
      "1284    3515553      PLoS      PLoS ONE   \n",
      "1285    3522679      PLoS      PLoS ONE   \n",
      "1286    3485223      PLoS      PLoS ONE   \n",
      "\n",
      "                                          Article title  \\\n",
      "1282  HCN1 and HCN2 in Rat DRG Neurons: Levels in No...   \n",
      "1283  Fetal alcohol exposure and IQ at age 8: Eviden...   \n",
      "1284  Vitamin B-12 status during pregnancy and child...   \n",
      "1285  Validation of Dual Energy X-ray Absorptiometry...   \n",
      "1286  Associations of different phenotypes of wheezi...   \n",
      "\n",
      "     COST (£) charged to Wellcome (inc VAT when charged)  \n",
      "1282                                           £1001.03   \n",
      "1283                                           £1004.15   \n",
      "1284                                           £1011.45   \n",
      "1285                                           £1011.45   \n",
      "1286                                           £1015.73   \n",
      "<class 'pandas.core.frame.DataFrame'>\n"
     ]
    }
   ],
   "source": [
    "#This is saying to filter the dataframe based on the condition of lowdf (that we assigned earlier above) equaling our \n",
    "#condition here (which is 'Plos one').\n",
    "\n",
    "df_one = df[lowdf == 'Plos one']\n",
    "print(df_one.head())\n",
    "print(type(df_one))"
   ]
  },
  {
   "cell_type": "code",
   "execution_count": null,
   "metadata": {},
   "outputs": [],
   "source": [
    "#num_split = df_one['COST (£) charged to Wellcome (inc VAT when charged)'].str.split('.', expand=True)\n",
    "#print(num_split)\n",
    "#print(list(filter(lambda x: str(x).isdigit(), num_split)))\n",
    "#dig1 = num_split[0].apply(lambda x: ''.join(list(filter(str.isdigit, str(x)))))\n",
    "#dig2 = num_split[1].apply(lambda x: ''.join(list(filter(str.isdigit, str(x)))))"
   ]
  },
  {
   "cell_type": "code",
   "execution_count": 95,
   "metadata": {},
   "outputs": [
    {
     "name": "stdout",
     "output_type": "stream",
     "text": [
      "The median price paid is: £899.74\n",
      "The mean of the prices paid is: £39154.62329787234\n",
      "The standard deviation of the prices paid is: £189470.75177558002\n",
      "1282      1001.03\n",
      "1283      1004.15\n",
      "1284      1011.45\n",
      "1285      1011.45\n",
      "1286      1015.73\n",
      "1287      1023.41\n",
      "1288      1039.87\n",
      "1289      1061.24\n",
      "1290      1061.24\n",
      "1291      1061.24\n",
      "1292      1080.00\n",
      "1293       794.93\n",
      "1294       809.29\n",
      "1295       819.34\n",
      "1296       854.96\n",
      "1297       901.50\n",
      "1298       902.12\n",
      "1299       903.89\n",
      "1303      1061.93\n",
      "1304       389.73\n",
      "1305       443.38\n",
      "1414      1002.86\n",
      "1415      1005.86\n",
      "1416      1005.96\n",
      "1417      1008.97\n",
      "1418      1009.98\n",
      "1419      1010.80\n",
      "1420      1013.03\n",
      "1421      1019.76\n",
      "1422      1027.73\n",
      "          ...    \n",
      "1553       896.32\n",
      "1554       896.96\n",
      "1555       896.99\n",
      "1556       897.19\n",
      "1557       897.61\n",
      "1558       897.61\n",
      "1559       899.34\n",
      "1560    999999.00\n",
      "1561    999999.00\n",
      "1562    999999.00\n",
      "1563    999999.00\n",
      "1564    999999.00\n",
      "1565    999999.00\n",
      "1566    999999.00\n",
      "1567       900.14\n",
      "1568       904.34\n",
      "1569       907.08\n",
      "1570       908.01\n",
      "1571       909.99\n",
      "1572       910.20\n",
      "1573       913.36\n",
      "1574       915.53\n",
      "1575       918.62\n",
      "1576       953.48\n",
      "1577       960.16\n",
      "1578       961.68\n",
      "1579       961.68\n",
      "1580       961.68\n",
      "1581       986.72\n",
      "1582       996.06\n",
      "Name: COST (£) charged to Wellcome (inc VAT when charged), Length: 188, dtype: object\n"
     ]
    }
   ],
   "source": [
    "num_strip = df_one['COST (£) charged to Wellcome (inc VAT when charged)'].str.strip('£')\n",
    "conv1 = pd.to_numeric(num_strip)\n",
    "mean1 = np.mean(conv1)\n",
    "median1 = np.median(conv1)\n",
    "std1 = np.std(conv1)\n",
    "\n",
    "print(\"The median price paid is: \" + \"£\" +str(median1))\n",
    "print(\"The mean of the prices paid is: \" + \"£\" +str(mean1))\n",
    "print(\"The standard deviation of the prices paid is: \" + \"£\" +str(std1))\n",
    "\n",
    "print(num_strip)"
   ]
  },
  {
   "cell_type": "code",
   "execution_count": 55,
   "metadata": {},
   "outputs": [
    {
     "name": "stdout",
     "output_type": "stream",
     "text": [
      "                    PMID/PMCID  \\\n",
      "16                    22610094   \n",
      "60                  PMC3576085   \n",
      "61        23239883 PMC3561570    \n",
      "64           PMCID: PMC3642348   \n",
      "65  PMID: 22992744  PMC3493908   \n",
      "\n",
      "                                            Publisher  \\\n",
      "16                                              AMBSB   \n",
      "60  American Soc for Biochemistry and Molecular Bi...   \n",
      "61  American Society for Biochemistry and Molecula...   \n",
      "64  American Society for Biochemistry and Molecula...   \n",
      "65  American Society for Biochemistry and Molecula...   \n",
      "\n",
      "                      Journal title  \\\n",
      "16  Journal of Biological Chemistry   \n",
      "60  Journal of Biological Chemistry   \n",
      "61  Journal of Biological Chemistry   \n",
      "64  Journal of Biological Chemistry   \n",
      "65  Journal of Biological Chemistry   \n",
      "\n",
      "                                        Article title  \\\n",
      "16                Annexin-1 interaction with FPR2/ALX   \n",
      "60  Understanding how noncatalytic carbohydrate bi...   \n",
      "61  Molecular architecture and functional analysis...   \n",
      "64  Human and viral golgi anti-apoptotic protein (...   \n",
      "65  Dynamic exchange of myosin VI on endocytic str...   \n",
      "\n",
      "   COST (£) charged to Wellcome (inc VAT when charged)  \n",
      "16                                            £265.67   \n",
      "60                                           £1100.00   \n",
      "61                                           £2259.64   \n",
      "64                                           £1019.71   \n",
      "65                                           £1119.61   \n"
     ]
    }
   ],
   "source": [
    "df_two = df[lowdf == 'Journal of biological chemistry']\n",
    "print(df_two.head())"
   ]
  },
  {
   "cell_type": "code",
   "execution_count": null,
   "metadata": {},
   "outputs": [],
   "source": [
    "df_three = df[lowdf == 'Neuroimage']"
   ]
  },
  {
   "cell_type": "code",
   "execution_count": null,
   "metadata": {},
   "outputs": [],
   "source": [
    "df_four = df[lowdf == 'Plos pathogens']"
   ]
  },
  {
   "cell_type": "code",
   "execution_count": null,
   "metadata": {},
   "outputs": [],
   "source": [
    "df_five = df[lowdf == 'Plos genetics']"
   ]
  }
 ],
 "metadata": {
  "kernelspec": {
   "display_name": "Python 3",
   "language": "python",
   "name": "python3"
  },
  "language_info": {
   "codemirror_mode": {
    "name": "ipython",
    "version": 3
   },
   "file_extension": ".py",
   "mimetype": "text/x-python",
   "name": "python",
   "nbconvert_exporter": "python",
   "pygments_lexer": "ipython3",
   "version": "3.7.0"
  }
 },
 "nbformat": 4,
 "nbformat_minor": 2
}
