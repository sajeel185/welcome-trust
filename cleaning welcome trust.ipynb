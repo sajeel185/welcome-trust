{
 "cells": [
  {
   "cell_type": "code",
   "execution_count": 38,
   "metadata": {},
   "outputs": [],
   "source": [
    "import pandas as pd\n",
    "import numpy as np"
   ]
  },
  {
   "cell_type": "code",
   "execution_count": 39,
   "metadata": {},
   "outputs": [
    {
     "name": "stdout",
     "output_type": "stream",
     "text": [
      "              PMID/PMCID Publisher                   Journal title  \\\n",
      "1             PMC3679557       ACS               Biomacromolecules   \n",
      "2  23043264  PMC3506128        ACS                      J Med Chem   \n",
      "3    23438330 PMC3646402       ACS                      J Med Chem   \n",
      "4   23438216 PMC3601604        ACS                      J Org Chem   \n",
      "5             PMC3579457       ACS  Journal of Medicinal Chemistry   \n",
      "\n",
      "                                       Article title  \\\n",
      "1  Structural characterization of a Model Gram-ne...   \n",
      "2  Fumaroylamino-4,5-epoxymorphinans and related ...   \n",
      "3  Orvinols with mixed kappa/mu opioid receptor a...   \n",
      "4  Regioselective opening of myo-inositol orthoes...   \n",
      "5  Comparative Structural and Functional Studies ...   \n",
      "\n",
      "  COST (£) charged to Wellcome (inc VAT when charged)  \n",
      "1                                           £2381.04   \n",
      "2                                            £642.56   \n",
      "3                                            £669.64   \n",
      "4                                            £685.88   \n",
      "5                                           £2392.20   \n"
     ]
    }
   ],
   "source": [
    "\n",
    "df = pd.read_csv(\"welcome_trust.csv\", encoding = 'unicode_escape')\n",
    "df = df.drop_duplicates()\n",
    "df = df.dropna()\n",
    "\n",
    "print(df.head())"
   ]
  },
  {
   "cell_type": "code",
   "execution_count": 40,
   "metadata": {},
   "outputs": [
    {
     "name": "stdout",
     "output_type": "stream",
     "text": [
      "<class 'pandas.core.frame.DataFrame'>\n",
      "Int64Index: 1928 entries, 1 to 2126\n",
      "Data columns (total 5 columns):\n",
      "PMID/PMCID                                             1928 non-null object\n",
      "Publisher                                              1928 non-null object\n",
      "Journal title                                          1928 non-null object\n",
      "Article title                                          1928 non-null object\n",
      "COST (£) charged to Wellcome (inc VAT when charged)    1928 non-null object\n",
      "dtypes: object(5)\n",
      "memory usage: 90.4+ KB\n",
      "None\n"
     ]
    }
   ],
   "source": [
    "print(df.info())"
   ]
  },
  {
   "cell_type": "code",
   "execution_count": 41,
   "metadata": {},
   "outputs": [
    {
     "name": "stdout",
     "output_type": "stream",
     "text": [
      "Plos one                                                      188\n",
      "Journal of biological chemistry                                52\n",
      "Neuroimage                                                     28\n",
      "Plos pathogens                                                 24\n",
      "Plos genetics                                                  23\n",
      "Nucleic acids research                                         22\n",
      "Plos neglected tropical diseases                               20\n",
      "Proceedings of the national academy of sciences                20\n",
      "Nature communications                                          19\n",
      "Human molecular genetics                                       17\n",
      "Bmc public health                                              12\n",
      "Brain                                                          11\n",
      "Journal of general virology                                    11\n",
      "Biochemical journal                                            11\n",
      "Movement disorders                                             11\n",
      "Current biology                                                10\n",
      "Plosone                                                         9\n",
      "Cell reports                                                    9\n",
      "Bmj open                                                        9\n",
      "Developmental cell                                              9\n",
      "Journal of neuroscience                                         9\n",
      "Malaria journal                                                 8\n",
      "Journal of structural biology                                   8\n",
      "European journal of immunology                                  8\n",
      "Journal of clinical endocrinology and metabolism                8\n",
      "Proceedings of the royal society b: biological sciences         8\n",
      "Neurobiology of aging                                           8\n",
      "Neuron                                                          8\n",
      "Plos computational biology                                      8\n",
      "Journal of physiology                                           7\n",
      "                                                             ... \n",
      "Bmc molecular biology                                           1\n",
      "Organic & biomolecular chemistry                                1\n",
      "Chemical communication                                          1\n",
      "American journal of medical genetics                            1\n",
      "G3: genes, genomes, genetics                                    1\n",
      "N biotechnol.                                                   1\n",
      "Seminars in oncology                                            1\n",
      "International journal of obesity                                1\n",
      "Hpb                                                             1\n",
      "Bmc neuroscience                                                1\n",
      "Bmc pediatrics                                                  1\n",
      "Experimental hematology                                         1\n",
      "European radiology                                              1\n",
      "Protist                                                         1\n",
      "Biochimica et bioohysica acta - molecular basis of disease      1\n",
      "Nature neuroscience                                             1\n",
      "Molecular genetics and metabolism                               1\n",
      "Genesis: journal of genetics                                    1\n",
      "Neuroinformatics                                                1\n",
      "Mammalian genome                                                1\n",
      "Human mol genetics online                                       1\n",
      "Economic history review                                         1\n",
      "Frontiers in cognition                                          1\n",
      "Journal of chemical information and modeling                    1\n",
      "Child: care, health development                                 1\n",
      "International reviews of immunology                             1\n",
      "Chemistry -  european journal                                   1\n",
      "Ecology letters                                                 1\n",
      "Bmc medical genetics                                            1\n",
      "Annals of science                                               1\n",
      "Name: Journal title, Length: 850, dtype: int64\n"
     ]
    }
   ],
   "source": [
    "lowdf = df['Journal title'].str.capitalize()\n",
    "\n",
    "print(lowdf.value_counts())"
   ]
  },
  {
   "cell_type": "code",
   "execution_count": 42,
   "metadata": {},
   "outputs": [
    {
     "name": "stdout",
     "output_type": "stream",
     "text": [
      "     PMID/PMCID Publisher Journal title  \\\n",
      "1282    3517619      PLoS      PLoS ONE   \n",
      "1283    3498109      PLoS      PloS One   \n",
      "1284    3515553      PLoS      PLoS ONE   \n",
      "1285    3522679      PLoS      PLoS ONE   \n",
      "1286    3485223      PLoS      PLoS ONE   \n",
      "\n",
      "                                          Article title  \\\n",
      "1282  HCN1 and HCN2 in Rat DRG Neurons: Levels in No...   \n",
      "1283  Fetal alcohol exposure and IQ at age 8: Eviden...   \n",
      "1284  Vitamin B-12 status during pregnancy and child...   \n",
      "1285  Validation of Dual Energy X-ray Absorptiometry...   \n",
      "1286  Associations of different phenotypes of wheezi...   \n",
      "\n",
      "     COST (£) charged to Wellcome (inc VAT when charged)  \n",
      "1282                                           £1001.03   \n",
      "1283                                           £1004.15   \n",
      "1284                                           £1011.45   \n",
      "1285                                           £1011.45   \n",
      "1286                                           £1015.73   \n",
      "<class 'pandas.core.frame.DataFrame'>\n"
     ]
    }
   ],
   "source": [
    "#This is saying to filter the dataframe based on the condition of lowdf (that we assigned earlier above) equaling our \n",
    "#condition here (which is 'Plos one').\n",
    "\n",
    "df_one = df[lowdf == 'Plos one']\n",
    "print(df_one.head())\n",
    "print(type(df_one))"
   ]
  },
  {
   "cell_type": "markdown",
   "metadata": {},
   "source": [
    "### First Article"
   ]
  },
  {
   "cell_type": "code",
   "execution_count": 44,
   "metadata": {},
   "outputs": [
    {
     "name": "stdout",
     "output_type": "stream",
     "text": [
      "The median price paid is: £899.74\n",
      "The mean of the prices paid is: £39154.62329787234\n",
      "The standard deviation of the prices paid is: £189976.68258749828\n"
     ]
    }
   ],
   "source": [
    "# First I stripped the non digits out of the column, in this case the £ sign.  Than we had to convert our result from a string\n",
    "# of series to a string of numbers\n",
    "\n",
    "num_strip = df_one['COST (£) charged to Wellcome (inc VAT when charged)'].str.strip('£')\n",
    "conv1 = pd.to_numeric(num_strip)\n",
    "mean1 = np.mean(conv1)\n",
    "median1 = np.median(conv1)\n",
    "std1 = np.std(conv1, ddof=1)\n",
    "\n",
    "print(\"The median price paid is: \" + \"£\" +str(median1))\n",
    "print(\"The mean of the prices paid is: \" + \"£\" +str(mean1))\n",
    "print(\"The standard deviation of the prices paid is: \" + \"£\" +str(std1))\n",
    "\n",
    "#print(num_strip)"
   ]
  },
  {
   "cell_type": "markdown",
   "metadata": {},
   "source": [
    "### Second Article"
   ]
  },
  {
   "cell_type": "code",
   "execution_count": 45,
   "metadata": {},
   "outputs": [],
   "source": [
    "df_two = df[lowdf == 'Journal of biological chemistry']\n",
    "#print(df_two.head())"
   ]
  },
  {
   "cell_type": "code",
   "execution_count": 46,
   "metadata": {},
   "outputs": [
    {
     "name": "stdout",
     "output_type": "stream",
     "text": [
      "The median price paid is: £1328.96\n",
      "The mean of the prices paid is: £20630.090384615385\n",
      "The standard deviation of the prices paid is: £138477.6626603459\n"
     ]
    }
   ],
   "source": [
    "num_striptwo = df_two['COST (£) charged to Wellcome (inc VAT when charged)'].str.strip('£')\n",
    "conv2 = pd.to_numeric(num_striptwo)\n",
    "mean2 = np.mean(conv2)\n",
    "median2 = np.median(conv2)\n",
    "std2 = np.std(conv2, ddof=1)\n",
    "\n",
    "print(\"The median price paid is: \" + \"£\" +str(median2))\n",
    "print(\"The mean of the prices paid is: \" + \"£\" +str(mean2))\n",
    "print(\"The standard deviation of the prices paid is: \" + \"£\" +str(std2))"
   ]
  },
  {
   "cell_type": "markdown",
   "metadata": {},
   "source": [
    "### Third Article"
   ]
  },
  {
   "cell_type": "code",
   "execution_count": 47,
   "metadata": {},
   "outputs": [],
   "source": [
    "df_three = df[lowdf == 'Neuroimage']"
   ]
  },
  {
   "cell_type": "code",
   "execution_count": 48,
   "metadata": {},
   "outputs": [
    {
     "name": "stdout",
     "output_type": "stream",
     "text": [
      "The median price paid is: £2335.04\n",
      "The mean of the prices paid is: £2230.718571428571\n",
      "The standard deviation of the prices paid is: £257.8091508693159\n"
     ]
    }
   ],
   "source": [
    "num_stripthree = df_three['COST (£) charged to Wellcome (inc VAT when charged)'].str.strip('£')\n",
    "conv3 = pd.to_numeric(num_stripthree)\n",
    "mean3 = np.mean(conv3)\n",
    "median3 = np.median(conv3)\n",
    "std3 = np.std(conv3, ddof=1)\n",
    "\n",
    "print(\"The median price paid is: \" + \"£\" +str(median3))\n",
    "print(\"The mean of the prices paid is: \" + \"£\" +str(mean3))\n",
    "print(\"The standard deviation of the prices paid is: \" + \"£\" +str(std3))"
   ]
  },
  {
   "cell_type": "markdown",
   "metadata": {},
   "source": [
    "### Fourth Article"
   ]
  },
  {
   "cell_type": "code",
   "execution_count": 49,
   "metadata": {},
   "outputs": [],
   "source": [
    "df_four = df[lowdf == 'Plos pathogens']"
   ]
  },
  {
   "cell_type": "code",
   "execution_count": 50,
   "metadata": {},
   "outputs": [
    {
     "name": "stdout",
     "output_type": "stream",
     "text": [
      "The median price paid is: £1600.52\n",
      "The mean of the prices paid is: £84775.04458333335\n",
      "The standard deviation of the prices paid is: £281885.54408993816\n"
     ]
    }
   ],
   "source": [
    "# first we stripped the £ sign, than we stripped the $ sign.\n",
    "\n",
    "num_stripfour = df_four['COST (£) charged to Wellcome (inc VAT when charged)'].str.strip('£')\n",
    "num_strip4_2 = num_stripfour.str.strip('$')\n",
    "conv4 = pd.to_numeric(num_strip4_2)\n",
    "mean4 = np.mean(conv4)\n",
    "median4 = np.median(conv4)\n",
    "std4 = np.std(conv4, ddof=1)\n",
    "\n",
    "print(\"The median price paid is: \" + \"£\" +str(median4))\n",
    "print(\"The mean of the prices paid is: \" + \"£\" +str(mean4))\n",
    "print(\"The standard deviation of the prices paid is: \" + \"£\" +str(std4))"
   ]
  },
  {
   "cell_type": "markdown",
   "metadata": {},
   "source": [
    "### Fifth Article"
   ]
  },
  {
   "cell_type": "code",
   "execution_count": 51,
   "metadata": {},
   "outputs": [],
   "source": [
    "df_five = df[lowdf == 'Plos genetics']"
   ]
  },
  {
   "cell_type": "code",
   "execution_count": 52,
   "metadata": {},
   "outputs": [
    {
     "name": "stdout",
     "output_type": "stream",
     "text": [
      "The median price paid is: £1715.06\n",
      "The mean of the prices paid is: £45049.888695652175\n",
      "The standard deviation of the prices paid is: £208171.64716143077\n"
     ]
    }
   ],
   "source": [
    "num_stripfive = df_five['COST (£) charged to Wellcome (inc VAT when charged)'].str.strip('£')\n",
    "conv5 = pd.to_numeric(num_stripfive)\n",
    "mean5 = np.mean(conv5)\n",
    "median5 = np.median(conv5)\n",
    "std5 = np.std(conv5, ddof=1)\n",
    "\n",
    "print(\"The median price paid is: \" + \"£\" +str(median5))\n",
    "print(\"The mean of the prices paid is: \" + \"£\" +str(mean5))\n",
    "print(\"The standard deviation of the prices paid is: \" + \"£\" +str(std5))"
   ]
  }
 ],
 "metadata": {
  "kernelspec": {
   "display_name": "Python 3",
   "language": "python",
   "name": "python3"
  },
  "language_info": {
   "codemirror_mode": {
    "name": "ipython",
    "version": 3
   },
   "file_extension": ".py",
   "mimetype": "text/x-python",
   "name": "python",
   "nbconvert_exporter": "python",
   "pygments_lexer": "ipython3",
   "version": "3.7.0"
  }
 },
 "nbformat": 4,
 "nbformat_minor": 2
}
