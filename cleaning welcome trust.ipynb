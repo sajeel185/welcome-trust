{
 "cells": [
  {
   "cell_type": "code",
   "execution_count": 35,
   "metadata": {},
   "outputs": [],
   "source": [
    "import pandas as pd\n",
    "import numpy as np"
   ]
  },
  {
   "cell_type": "code",
   "execution_count": 36,
   "metadata": {},
   "outputs": [
    {
     "name": "stdout",
     "output_type": "stream",
     "text": [
      "              PMID/PMCID Publisher                   Journal title  \\\n",
      "1             PMC3679557       ACS               Biomacromolecules   \n",
      "2  23043264  PMC3506128        ACS                      J Med Chem   \n",
      "3    23438330 PMC3646402       ACS                      J Med Chem   \n",
      "4   23438216 PMC3601604        ACS                      J Org Chem   \n",
      "5             PMC3579457       ACS  Journal of Medicinal Chemistry   \n",
      "\n",
      "                                       Article title  \\\n",
      "1  Structural characterization of a Model Gram-ne...   \n",
      "2  Fumaroylamino-4,5-epoxymorphinans and related ...   \n",
      "3  Orvinols with mixed kappa/mu opioid receptor a...   \n",
      "4  Regioselective opening of myo-inositol orthoes...   \n",
      "5  Comparative Structural and Functional Studies ...   \n",
      "\n",
      "  COST (£) charged to Wellcome (inc VAT when charged)  \n",
      "1                                           £2381.04   \n",
      "2                                            £642.56   \n",
      "3                                            £669.64   \n",
      "4                                            £685.88   \n",
      "5                                           £2392.20   \n"
     ]
    }
   ],
   "source": [
    "\n",
    "df = pd.read_csv(\"welcome_trust.csv\", encoding = 'unicode_escape')\n",
    "df = df.drop_duplicates()\n",
    "df = df.dropna()\n",
    "\n",
    "print(df.head())"
   ]
  },
  {
   "cell_type": "code",
   "execution_count": 37,
   "metadata": {},
   "outputs": [
    {
     "name": "stdout",
     "output_type": "stream",
     "text": [
      "<class 'pandas.core.frame.DataFrame'>\n",
      "Int64Index: 1928 entries, 1 to 2126\n",
      "Data columns (total 5 columns):\n",
      "PMID/PMCID                                             1928 non-null object\n",
      "Publisher                                              1928 non-null object\n",
      "Journal title                                          1928 non-null object\n",
      "Article title                                          1928 non-null object\n",
      "COST (£) charged to Wellcome (inc VAT when charged)    1928 non-null object\n",
      "dtypes: object(5)\n",
      "memory usage: 90.4+ KB\n",
      "None\n"
     ]
    }
   ],
   "source": [
    "print(df.info())"
   ]
  },
  {
   "cell_type": "code",
   "execution_count": 38,
   "metadata": {},
   "outputs": [
    {
     "name": "stdout",
     "output_type": "stream",
     "text": [
      "Plos one                                                    188\n",
      "Journal of biological chemistry                              52\n",
      "Neuroimage                                                   28\n",
      "Plos pathogens                                               24\n",
      "Plos genetics                                                23\n",
      "Nucleic acids research                                       22\n",
      "Plos neglected tropical diseases                             20\n",
      "Proceedings of the national academy of sciences              20\n",
      "Nature communications                                        19\n",
      "Human molecular genetics                                     17\n",
      "Bmc public health                                            12\n",
      "Journal of general virology                                  11\n",
      "Biochemical journal                                          11\n",
      "Movement disorders                                           11\n",
      "Brain                                                        11\n",
      "Current biology                                              10\n",
      "Bmj open                                                      9\n",
      "Journal of neuroscience                                       9\n",
      "Developmental cell                                            9\n",
      "Cell reports                                                  9\n",
      "Plosone                                                       9\n",
      "Neuron                                                        8\n",
      "Proceedings of the royal society b: biological sciences       8\n",
      "Plos computational biology                                    8\n",
      "Journal of structural biology                                 8\n",
      "Journal of clinical endocrinology and metabolism              8\n",
      "Malaria journal                                               8\n",
      "European journal of immunology                                8\n",
      "Neurobiology of aging                                         8\n",
      "The journal of biological chemistry                           7\n",
      "                                                           ... \n",
      "Development                                                   1\n",
      "Bioscience reports                                            1\n",
      "European journal of clinical pharmacology                     1\n",
      "Tropical animal health & production                           1\n",
      "J cell sci.                                                   1\n",
      "Qualitative research                                          1\n",
      "Ophthalmology                                                 1\n",
      "Maternal and child nutrition                                  1\n",
      "Journal of neurology, neurosurgery & psychiatry               1\n",
      "Reproductive medicine and biology                             1\n",
      "Inflammation research                                         1\n",
      "Current opinions in neurobiology                              1\n",
      "Int j epidemiol                                               1\n",
      "The vet. journal                                              1\n",
      "British journal for the history of science                    1\n",
      "The international journal of biochemistry & cell biology      1\n",
      "Jerph                                                         1\n",
      "Veterinary record                                             1\n",
      "Annals of human genetics                                      1\n",
      "Consciousness & cognition                                     1\n",
      "N biotechnol.                                                 1\n",
      "Bmc molecular biology                                         1\n",
      "Ethn health                                                   1\n",
      "Bmc medical ethics                                            1\n",
      "Protemics                                                     1\n",
      "Inyernational journal of epidemiology                         1\n",
      "Pyschological medicine                                        1\n",
      "Zoonoses and public health                                    1\n",
      "Journal of small animal practice                              1\n",
      "Health and place                                              1\n",
      "Name: Journal title, Length: 850, dtype: int64\n"
     ]
    }
   ],
   "source": [
    "lowdf = df['Journal title'].str.capitalize()\n",
    "\n",
    "print(lowdf.value_counts())"
   ]
  },
  {
   "cell_type": "code",
   "execution_count": 39,
   "metadata": {},
   "outputs": [
    {
     "name": "stdout",
     "output_type": "stream",
     "text": [
      "     PMID/PMCID Publisher Journal title  \\\n",
      "1282    3517619      PLoS      PLoS ONE   \n",
      "1283    3498109      PLoS      PloS One   \n",
      "1284    3515553      PLoS      PLoS ONE   \n",
      "1285    3522679      PLoS      PLoS ONE   \n",
      "1286    3485223      PLoS      PLoS ONE   \n",
      "\n",
      "                                          Article title  \\\n",
      "1282  HCN1 and HCN2 in Rat DRG Neurons: Levels in No...   \n",
      "1283  Fetal alcohol exposure and IQ at age 8: Eviden...   \n",
      "1284  Vitamin B-12 status during pregnancy and child...   \n",
      "1285  Validation of Dual Energy X-ray Absorptiometry...   \n",
      "1286  Associations of different phenotypes of wheezi...   \n",
      "\n",
      "     COST (£) charged to Wellcome (inc VAT when charged)  \n",
      "1282                                           £1001.03   \n",
      "1283                                           £1004.15   \n",
      "1284                                           £1011.45   \n",
      "1285                                           £1011.45   \n",
      "1286                                           £1015.73   \n",
      "<class 'pandas.core.frame.DataFrame'>\n"
     ]
    }
   ],
   "source": [
    "#This is saying to filter the dataframe based on the condition of lowdf (that we assigned earlier above) equaling our \n",
    "#condition here (which is 'Plos one').\n",
    "\n",
    "df_one = df[lowdf == 'Plos one']\n",
    "print(df_one.head())\n",
    "print(type(df_one))"
   ]
  },
  {
   "cell_type": "markdown",
   "metadata": {},
   "source": [
    "### First Article"
   ]
  },
  {
   "cell_type": "code",
   "execution_count": 40,
   "metadata": {},
   "outputs": [
    {
     "name": "stdout",
     "output_type": "stream",
     "text": [
      "The median price paid is: £897.19\n",
      "The mean of the prices paid is: £1994.8960220994468\n",
      "The standard deviation of the prices paid is: £14251.071638101252\n"
     ]
    }
   ],
   "source": [
    "# First I stripped the non digits out of the column, in this case the £ sign.  Than we had to convert our result from a series\n",
    "# of strings to a series of numbers\n",
    "\n",
    "num_strip = df_one['COST (£) charged to Wellcome (inc VAT when charged)'].str.strip('£')\n",
    "num_drop = num_strip.drop([1560, 1561, 1562, 1563, 1564, 1565, 1566], axis=0)\n",
    "conv1 = pd.to_numeric(num_drop)\n",
    "mean1 = np.mean(conv1)\n",
    "median1 = np.median(conv1)\n",
    "std1 = np.std(conv1, ddof=1)\n",
    "\n",
    "print(\"The median price paid is: \" + \"£\" +str(median1))\n",
    "print(\"The mean of the prices paid is: \" + \"£\" +str(mean1))\n",
    "print(\"The standard deviation of the prices paid is: \" + \"£\" +str(std1))\n",
    "\n",
    "#print(num_drop)\n"
   ]
  },
  {
   "cell_type": "markdown",
   "metadata": {},
   "source": [
    "### Second Article"
   ]
  },
  {
   "cell_type": "code",
   "execution_count": 41,
   "metadata": {},
   "outputs": [],
   "source": [
    "df_two = df[lowdf == 'Journal of biological chemistry']\n",
    "#print(df_two.head())"
   ]
  },
  {
   "cell_type": "code",
   "execution_count": 42,
   "metadata": {},
   "outputs": [
    {
     "name": "stdout",
     "output_type": "stream",
     "text": [
      "The median price paid is: £1314.53\n",
      "The mean of the prices paid is: £1426.7784313725488\n",
      "The standard deviation of the prices paid is: £415.40437218388803\n"
     ]
    }
   ],
   "source": [
    "num_strip2 = df_two['COST (£) charged to Wellcome (inc VAT when charged)'].str.strip('£')\n",
    "num_drop2 = num_strip2.drop([149], axis=0)\n",
    "\n",
    "conv2 = pd.to_numeric(num_drop2)\n",
    "mean2 = np.mean(conv2)\n",
    "median2 = np.median(conv2)\n",
    "std2 = np.std(conv2, ddof=1)\n",
    "\n",
    "print(\"The median price paid is: \" + \"£\" +str(median2))\n",
    "print(\"The mean of the prices paid is: \" + \"£\" +str(mean2))\n",
    "print(\"The standard deviation of the prices paid is: \" + \"£\" +str(std2))\n",
    "\n",
    "#print(num_drop2)"
   ]
  },
  {
   "cell_type": "markdown",
   "metadata": {},
   "source": [
    "### Third Article"
   ]
  },
  {
   "cell_type": "code",
   "execution_count": 43,
   "metadata": {},
   "outputs": [],
   "source": [
    "df_three = df[lowdf == 'Neuroimage']"
   ]
  },
  {
   "cell_type": "code",
   "execution_count": 44,
   "metadata": {},
   "outputs": [
    {
     "name": "stdout",
     "output_type": "stream",
     "text": [
      "The median price paid is: £2335.04\n",
      "The mean of the prices paid is: £2230.718571428571\n",
      "The standard deviation of the prices paid is: £257.8091508693159\n"
     ]
    }
   ],
   "source": [
    "num_strip3 = df_three['COST (£) charged to Wellcome (inc VAT when charged)'].str.strip('£')\n",
    "\n",
    "conv3 = pd.to_numeric(num_strip3)\n",
    "mean3 = np.mean(conv3)\n",
    "median3 = np.median(conv3)\n",
    "std3 = np.std(conv3, ddof=1)\n",
    "\n",
    "print(\"The median price paid is: \" + \"£\" +str(median3))\n",
    "print(\"The mean of the prices paid is: \" + \"£\" +str(mean3))\n",
    "print(\"The standard deviation of the prices paid is: \" + \"£\" +str(std3))\n",
    "\n",
    "#print(num_strip3)"
   ]
  },
  {
   "cell_type": "markdown",
   "metadata": {},
   "source": [
    "### Fourth Article"
   ]
  },
  {
   "cell_type": "code",
   "execution_count": 45,
   "metadata": {},
   "outputs": [],
   "source": [
    "df_four = df[lowdf == 'Plos pathogens']"
   ]
  },
  {
   "cell_type": "code",
   "execution_count": 46,
   "metadata": {},
   "outputs": [
    {
     "name": "stdout",
     "output_type": "stream",
     "text": [
      "The median price paid is: £1600.25\n",
      "The mean of the prices paid is: £1572.8668181818182\n",
      "The standard deviation of the prices paid is: £161.78089066583865\n"
     ]
    }
   ],
   "source": [
    "# first we stripped the £ sign, than we stripped the $ sign, than converted the series of strings to series of numbers.\n",
    "\n",
    "num_strip4 = df_four['COST (£) charged to Wellcome (inc VAT when charged)'].str.strip('£')\n",
    "num_strip4_2 = num_strip4.str.strip('$')\n",
    "num_drop4 = num_strip4_2.drop([1597, 1598], axis=0)\n",
    "\n",
    "conv4 = pd.to_numeric(num_drop4)\n",
    "mean4 = np.mean(conv4)\n",
    "median4 = np.median(conv4)\n",
    "std4 = np.std(conv4, ddof=1)\n",
    "\n",
    "print(\"The median price paid is: \" + \"£\" +str(median4))\n",
    "print(\"The mean of the prices paid is: \" + \"£\" +str(mean4))\n",
    "print(\"The standard deviation of the prices paid is: \" + \"£\" +str(std4))\n",
    "\n",
    "#print(num_drop4)"
   ]
  },
  {
   "cell_type": "markdown",
   "metadata": {},
   "source": [
    "### Fifth Article"
   ]
  },
  {
   "cell_type": "code",
   "execution_count": 47,
   "metadata": {},
   "outputs": [],
   "source": [
    "df_five = df[lowdf == 'Plos genetics']"
   ]
  },
  {
   "cell_type": "code",
   "execution_count": 48,
   "metadata": {},
   "outputs": [
    {
     "name": "stdout",
     "output_type": "stream",
     "text": [
      "The median price paid is: £1712.73\n",
      "The mean of the prices paid is: £1643.1109090909092\n",
      "The standard deviation of the prices paid is: £153.36682533527224\n"
     ]
    }
   ],
   "source": [
    "num_strip5 = df_five['COST (£) charged to Wellcome (inc VAT when charged)'].str.strip('£')\n",
    "num_drop5 = num_strip5.drop([1386], axis=0)\n",
    "\n",
    "conv5 = pd.to_numeric(num_drop5)\n",
    "mean5 = np.mean(conv5)\n",
    "median5 = np.median(conv5)\n",
    "std5 = np.std(conv5, ddof=1)\n",
    "\n",
    "print(\"The median price paid is: \" + \"£\" +str(median5))\n",
    "print(\"The mean of the prices paid is: \" + \"£\" +str(mean5))\n",
    "print(\"The standard deviation of the prices paid is: \" + \"£\" +str(std5))\n",
    "\n",
    "#print(num_drop5)"
   ]
  }
 ],
 "metadata": {
  "kernelspec": {
   "display_name": "Python 3",
   "language": "python",
   "name": "python3"
  },
  "language_info": {
   "codemirror_mode": {
    "name": "ipython",
    "version": 3
   },
   "file_extension": ".py",
   "mimetype": "text/x-python",
   "name": "python",
   "nbconvert_exporter": "python",
   "pygments_lexer": "ipython3",
   "version": "3.7.0"
  }
 },
 "nbformat": 4,
 "nbformat_minor": 2
}
